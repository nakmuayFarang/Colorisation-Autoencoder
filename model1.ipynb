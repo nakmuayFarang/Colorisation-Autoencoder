{
 "cells": [
  {
   "cell_type": "markdown",
   "metadata": {},
   "source": [
    "# Model 1: 3 Convolutions then 3 Deconvolutions"
   ]
  },
  {
   "cell_type": "markdown",
   "metadata": {},
   "source": [
    "## Parametres"
   ]
  },
  {
   "cell_type": "code",
   "execution_count": 1,
   "metadata": {},
   "outputs": [],
   "source": [
    "#Depencies\n",
    "import os\n",
    "from random import shuffle\n",
    "from math import floor\n",
    "from PIL import Image"
   ]
  },
  {
   "cell_type": "code",
   "execution_count": 2,
   "metadata": {},
   "outputs": [
    {
     "name": "stderr",
     "output_type": "stream",
     "text": [
      "Using TensorFlow backend.\n"
     ]
    }
   ],
   "source": [
    "#Create a CNN\n",
    "import numpy as np\n",
    "from keras.layers import Dense, Dropout, Conv2D, Flatten, Input\n",
    "from keras.layers import Reshape, Conv2DTranspose, MaxPooling2D\n",
    "from keras.models import Model\n",
    "from keras.callbacks import TensorBoard\n",
    "from keras.utils import plot_model\n",
    "from keras.backend import int_shape\n",
    "from keras.models import load_model"
   ]
  },
  {
   "cell_type": "code",
   "execution_count": 3,
   "metadata": {},
   "outputs": [],
   "source": [
    "#Set WD\n",
    "os.chdir('C:/Users/feher/Documents/ScriptDeepLearningColorPhoto/')"
   ]
  },
  {
   "cell_type": "code",
   "execution_count": 4,
   "metadata": {},
   "outputs": [],
   "source": [
    "#Data's path\n",
    "pathColor = \"D:/Project/DeepLearning/AlgoPhotoColor/Data/color/\"\n",
    "pathNb = \"D:/Project/DeepLearning/AlgoPhotoColor/Data/nb/\""
   ]
  },
  {
   "cell_type": "code",
   "execution_count": 5,
   "metadata": {},
   "outputs": [],
   "source": [
    "#Parametres\n",
    "h,w  = (200,200)\n",
    "filters = [32,64,128]\n",
    "latentVectLen = 256\n",
    "strides1 = 2\n",
    "kernel1 = 3"
   ]
  },
  {
   "cell_type": "code",
   "execution_count": 6,
   "metadata": {},
   "outputs": [],
   "source": [
    "#Parametres\n",
    "batchSize = 20\n",
    "epoch = 1"
   ]
  },
  {
   "cell_type": "markdown",
   "metadata": {},
   "source": [
    "## Model Creation"
   ]
  },
  {
   "cell_type": "code",
   "execution_count": 7,
   "metadata": {},
   "outputs": [],
   "source": [
    "\n",
    "#Autoencoder\n",
    "\n",
    "###Encoder part\n",
    "inputs = Input(  name = 'encoder_input',shape=(h,w,1) )\n",
    "x = inputs\n",
    "index = 0\n",
    "\n",
    "for f in filters:\n",
    "    x = Conv2D(filters= f , kernel_size = kernel1, activation='relu', padding='same', strides= strides1  )(x)\n",
    "    x = Dropout(0.2)(x)\n",
    "    index += 1\n",
    "\n",
    "shp = int_shape(x)#Get the shape of the vector\n",
    "x = Flatten()(x)\n",
    "x = Dense(latentVectLen)(x)#Latent vector\n",
    "\n",
    "###Decoder part\n",
    "\n",
    "x = Dense( shp[1]*shp[2]*shp[3] )(x)\n",
    "x = Reshape((shp[1],shp[2],shp[3]))(x)\n",
    "\n",
    "index = 2\n",
    "for f in filters[::-1]:\n",
    "    x = Conv2DTranspose(filters=f, kernel_size=kernel1,  activation='relu', padding=\"same\", strides=strides1)(x)\n",
    "    x = Dropout(0.2)(x)\n",
    "    index += -1\n",
    "\n",
    "outputs = Conv2DTranspose(filters=3, kernel_size=kernel1, activation='sigmoid',padding='same')(x)\n",
    "\n",
    "\n",
    "autoEnc = Model(inputs, outputs, name='autoEnc')"
   ]
  },
  {
   "cell_type": "code",
   "execution_count": 8,
   "metadata": {
    "scrolled": true
   },
   "outputs": [
    {
     "name": "stdout",
     "output_type": "stream",
     "text": [
      "_________________________________________________________________\n",
      "Layer (type)                 Output Shape              Param #   \n",
      "=================================================================\n",
      "encoder_input (InputLayer)   (None, 200, 200, 1)       0         \n",
      "_________________________________________________________________\n",
      "conv2d_1 (Conv2D)            (None, 100, 100, 32)      320       \n",
      "_________________________________________________________________\n",
      "dropout_1 (Dropout)          (None, 100, 100, 32)      0         \n",
      "_________________________________________________________________\n",
      "conv2d_2 (Conv2D)            (None, 50, 50, 64)        18496     \n",
      "_________________________________________________________________\n",
      "dropout_2 (Dropout)          (None, 50, 50, 64)        0         \n",
      "_________________________________________________________________\n",
      "conv2d_3 (Conv2D)            (None, 25, 25, 128)       73856     \n",
      "_________________________________________________________________\n",
      "dropout_3 (Dropout)          (None, 25, 25, 128)       0         \n",
      "_________________________________________________________________\n",
      "flatten_1 (Flatten)          (None, 80000)             0         \n",
      "_________________________________________________________________\n",
      "dense_1 (Dense)              (None, 256)               20480256  \n",
      "_________________________________________________________________\n",
      "dense_2 (Dense)              (None, 80000)             20560000  \n",
      "_________________________________________________________________\n",
      "reshape_1 (Reshape)          (None, 25, 25, 128)       0         \n",
      "_________________________________________________________________\n",
      "conv2d_transpose_1 (Conv2DTr (None, 50, 50, 128)       147584    \n",
      "_________________________________________________________________\n",
      "dropout_4 (Dropout)          (None, 50, 50, 128)       0         \n",
      "_________________________________________________________________\n",
      "conv2d_transpose_2 (Conv2DTr (None, 100, 100, 64)      73792     \n",
      "_________________________________________________________________\n",
      "dropout_5 (Dropout)          (None, 100, 100, 64)      0         \n",
      "_________________________________________________________________\n",
      "conv2d_transpose_3 (Conv2DTr (None, 200, 200, 32)      18464     \n",
      "_________________________________________________________________\n",
      "dropout_6 (Dropout)          (None, 200, 200, 32)      0         \n",
      "_________________________________________________________________\n",
      "conv2d_transpose_4 (Conv2DTr (None, 200, 200, 3)       867       \n",
      "=================================================================\n",
      "Total params: 41,373,635\n",
      "Trainable params: 41,373,635\n",
      "Non-trainable params: 0\n",
      "_________________________________________________________________\n"
     ]
    }
   ],
   "source": [
    "autoEnc.summary()"
   ]
  },
  {
   "cell_type": "code",
   "execution_count": 9,
   "metadata": {},
   "outputs": [],
   "source": [
    "autoEnc.compile(loss='mse', optimizer='adam',metrics=['accuracy'])"
   ]
  },
  {
   "cell_type": "markdown",
   "metadata": {},
   "source": [
    "## Load datas"
   ]
  },
  {
   "cell_type": "code",
   "execution_count": 10,
   "metadata": {},
   "outputs": [],
   "source": [
    "#Loading train Data\n",
    "Xtr = []\n",
    "Ytr = []\n",
    "file = open(\"D:/Project/DeepLearning/AlgoPhotoColor/Data/train.txt\")\n",
    "fileTr = file.readlines()\n",
    "file.close()\n",
    "\n",
    "\n",
    "for f in fileTr:\n",
    "    Ytr.append( np.load(pathColor + f[:-1]))\n",
    "    Xtr.append( np.load(pathNb + f[:-1]))\n",
    "\n",
    "#Loading test data\n",
    "Xtes = []\n",
    "Ytes = []\n",
    "file = open(\"D:/Project/DeepLearning/AlgoPhotoColor/Data/test.txt\")\n",
    "fileTes = file.readlines()\n",
    "file.close()\n",
    "\n",
    "for f in fileTes:\n",
    "    Ytes.append( np.load(pathColor + f[:-1]))\n",
    "    Xtes.append( np.load(pathNb + f[:-1]))"
   ]
  },
  {
   "cell_type": "code",
   "execution_count": 11,
   "metadata": {},
   "outputs": [],
   "source": [
    "# reshape\n",
    "Xtr = np.asarray(Xtr).flatten()\n",
    "Xtr = Xtr.reshape(-1,w,h,1)\n",
    "Ytr = np.asarray(Ytr).flatten()\n",
    "Ytr = Ytr.reshape((-1,w,h,3))\n",
    "\n",
    "Xtes = np.asarray(Xtes).flatten()\n",
    "Xtes = Xtes.reshape(-1,w,h,1)\n",
    "Ytes = np.asarray(Ytes).flatten()\n",
    "Ytes = Ytes.reshape((-1,w,h,3))"
   ]
  },
  {
   "cell_type": "markdown",
   "metadata": {},
   "source": [
    "## view a sample of picture"
   ]
  },
  {
   "cell_type": "code",
   "execution_count": null,
   "metadata": {},
   "outputs": [],
   "source": [
    "index = 0\n",
    "for pics in Ytes[0:20]:\n",
    "    z = pics * 255\n",
    "    z=Image.fromarray(z.astype('uint8'))\n",
    "    z.save('D:/Project/DeepLearning/AlgoPhotoColor/outputs/Model2/test/original{}.png'.format(index))\n",
    "    z = z.convert('L')\n",
    "    z.save('D:/Project/DeepLearning/AlgoPhotoColor/outputs/Model2/test/original{}_n.png'.format(index))\n",
    "    index+= 1\n",
    "    \n",
    "index = 0\n",
    "for pics in Ytr[0:20]:\n",
    "    z = pics * 255\n",
    "    z=Image.fromarray(z.astype('uint8'))\n",
    "    z.save('D:/Project/DeepLearning/AlgoPhotoColor/outputs/Model2/train/original{}.png'.format(index))\n",
    "    z = z.convert('L')\n",
    "    z.save('D:/Project/DeepLearning/AlgoPhotoColor/outputs/Model2/train/original{}_n.png'.format(index))\n",
    "    index+= 1"
   ]
  },
  {
   "cell_type": "markdown",
   "metadata": {},
   "source": [
    "## Model Training"
   ]
  },
  {
   "cell_type": "code",
   "execution_count": null,
   "metadata": {
    "scrolled": true
   },
   "outputs": [],
   "source": [
    "tbd = TensorBoard(\"D:/Project/DeepLearning/AlgoPhotoColor/outputs/Log/Model2\")"
   ]
  },
  {
   "cell_type": "code",
   "execution_count": null,
   "metadata": {},
   "outputs": [],
   "source": [
    "step = 10\n",
    "epochStart = 30\n",
    "epochEnd = 50"
   ]
  },
  {
   "cell_type": "code",
   "execution_count": null,
   "metadata": {
    "scrolled": false
   },
   "outputs": [],
   "source": [
    "#Loop through epoch and very step epochs save the model, and genrate some picture\n",
    "\n",
    "for ep in range(epochStart,epochEnd,step):\n",
    "    \n",
    "    #===============Train the model=======================================\n",
    "    autoEnc.fit(Xtr,Ytr,batch_size=15,callbacks=[tbd],validation_data=(Xtes,Ytes) ,initial_epoch=ep ,epochs= ep+step)\n",
    "    \n",
    "    #==================Save the model=========================================\n",
    "    os.mkdir('D:/Project/DeepLearning/AlgoPhotoColor/models/Model2/Epoch{}'.format(ep + step))#create the folder\n",
    "    autoEnc.save( \"D:/Project/DeepLearning/AlgoPhotoColor/models/Model2/Epoch{}/autoEnc2{}.h5\".format(ep + step,ep + step))\n",
    "    \n",
    "    #==================Create output data=====================================\n",
    "    os.mkdir('D:/Project/DeepLearning/AlgoPhotoColor/outputs/Model2/Epoch{}'.format(ep + step))\n",
    "    os.mkdir('D:/Project/DeepLearning/AlgoPhotoColor/outputs/Model2/Epoch{}/test'.format(ep + step))\n",
    "    os.mkdir('D:/Project/DeepLearning/AlgoPhotoColor/outputs/Model2/Epoch{}/train'.format(ep + step))\n",
    "    \n",
    "    \n",
    "    #export the genrated pictures (test)\n",
    "    res = autoEnc.predict(Xtes[0:20])\n",
    "    res *= 255\n",
    "    res = res.astype('uint8')\n",
    "\n",
    "    index = 1\n",
    "    for img in res:\n",
    "        z = Image.fromarray( img )\n",
    "        z.save('D:/Project/DeepLearning/AlgoPhotoColor/outputs/Model2/Epoch{}/test/Photo{}.png'.format(ep + step,index))\n",
    "        index += 1\n",
    "    \n",
    "    #export the genrated pictures (train)\n",
    "    res = autoEnc.predict(Xtr[0:20])\n",
    "    res *= 255\n",
    "    res = res.astype('uint8')\n",
    "    index = 1\n",
    "    for img in res:\n",
    "        z = Image.fromarray( img )\n",
    "        z.save('D:/Project/DeepLearning/AlgoPhotoColor/outputs/Model2/Epoch{}/train/Photo{}.png'.format(ep + step,index))\n",
    "        index += 1\n",
    "    "
   ]
  },
  {
   "cell_type": "code",
   "execution_count": null,
   "metadata": {},
   "outputs": [],
   "source": []
  }
 ],
 "metadata": {
  "kernelspec": {
   "display_name": "Python 3",
   "language": "python",
   "name": "python3"
  },
  "language_info": {
   "codemirror_mode": {
    "name": "ipython",
    "version": 3
   },
   "file_extension": ".py",
   "mimetype": "text/x-python",
   "name": "python",
   "nbconvert_exporter": "python",
   "pygments_lexer": "ipython3",
   "version": "3.6.8"
  }
 },
 "nbformat": 4,
 "nbformat_minor": 2
}
