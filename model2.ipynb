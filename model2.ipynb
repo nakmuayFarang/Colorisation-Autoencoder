{
 "cells": [
  {
   "cell_type": "markdown",
   "metadata": {},
   "source": [
    "# Using a pretrained model"
   ]
  },
  {
   "cell_type": "markdown",
   "metadata": {},
   "source": [
    " Tune a trained model to create an IA that color picture and compare it with the model1"
   ]
  },
  {
   "cell_type": "code",
   "execution_count": 1,
   "metadata": {},
   "outputs": [],
   "source": [
    "#Depencies\n",
    "import os\n",
    "from random import shuffle\n",
    "from math import floor\n",
    "from PIL import Image"
   ]
  },
  {
   "cell_type": "code",
   "execution_count": 2,
   "metadata": {},
   "outputs": [
    {
     "name": "stderr",
     "output_type": "stream",
     "text": [
      "Using TensorFlow backend.\n"
     ]
    }
   ],
   "source": [
    "#Create a CNN\n",
    "import numpy as np\n",
    "from keras.callbacks import TensorBoard\n",
    "from keras.utils import plot_model\n",
    "from keras.models import load_model, Model\n",
    "from keras.backend import int_shape"
   ]
  },
  {
   "cell_type": "code",
   "execution_count": 3,
   "metadata": {},
   "outputs": [],
   "source": [
    "#Data's path\n",
    "pathColor = \"D:/Project/DeepLearning/AlgoPhotoColor/Data/color/\"\n",
    "pathNb = \"D:/Project/DeepLearning/AlgoPhotoColor/Data/nb/\""
   ]
  },
  {
   "cell_type": "markdown",
   "metadata": {},
   "source": [
    "## tune VGG16"
   ]
  },
  {
   "cell_type": "markdown",
   "metadata": {},
   "source": [
    "### Model creation"
   ]
  },
  {
   "cell_type": "code",
   "execution_count": 4,
   "metadata": {},
   "outputs": [],
   "source": [
    "#Load vgg16 model, this model was trained on Imagnet dataset\n",
    "from keras.applications.vgg16 import VGG16"
   ]
  },
  {
   "cell_type": "code",
   "execution_count": 5,
   "metadata": {},
   "outputs": [],
   "source": [
    "from keras.layers import Conv2D, Conv2DTranspose, Input, Flatten, Dense, Reshape, MaxPooling2D"
   ]
  },
  {
   "cell_type": "code",
   "execution_count": 6,
   "metadata": {},
   "outputs": [],
   "source": [
    "vgg16 = VGG16(include_top=False, weights='imagenet' ,input_tensor=None,  pooling=None, input_shape=(200,200,3), classes=1000)"
   ]
  },
  {
   "cell_type": "code",
   "execution_count": 7,
   "metadata": {},
   "outputs": [
    {
     "name": "stdout",
     "output_type": "stream",
     "text": [
      "_________________________________________________________________\n",
      "Layer (type)                 Output Shape              Param #   \n",
      "=================================================================\n",
      "input_1 (InputLayer)         (None, 200, 200, 3)       0         \n",
      "_________________________________________________________________\n",
      "block1_conv1 (Conv2D)        (None, 200, 200, 64)      1792      \n",
      "_________________________________________________________________\n",
      "block1_conv2 (Conv2D)        (None, 200, 200, 64)      36928     \n",
      "_________________________________________________________________\n",
      "block1_pool (MaxPooling2D)   (None, 100, 100, 64)      0         \n",
      "_________________________________________________________________\n",
      "block2_conv1 (Conv2D)        (None, 100, 100, 128)     73856     \n",
      "_________________________________________________________________\n",
      "block2_conv2 (Conv2D)        (None, 100, 100, 128)     147584    \n",
      "_________________________________________________________________\n",
      "block2_pool (MaxPooling2D)   (None, 50, 50, 128)       0         \n",
      "_________________________________________________________________\n",
      "block3_conv1 (Conv2D)        (None, 50, 50, 256)       295168    \n",
      "_________________________________________________________________\n",
      "block3_conv2 (Conv2D)        (None, 50, 50, 256)       590080    \n",
      "_________________________________________________________________\n",
      "block3_conv3 (Conv2D)        (None, 50, 50, 256)       590080    \n",
      "_________________________________________________________________\n",
      "block3_pool (MaxPooling2D)   (None, 25, 25, 256)       0         \n",
      "_________________________________________________________________\n",
      "block4_conv1 (Conv2D)        (None, 25, 25, 512)       1180160   \n",
      "_________________________________________________________________\n",
      "block4_conv2 (Conv2D)        (None, 25, 25, 512)       2359808   \n",
      "_________________________________________________________________\n",
      "block4_conv3 (Conv2D)        (None, 25, 25, 512)       2359808   \n",
      "_________________________________________________________________\n",
      "block4_pool (MaxPooling2D)   (None, 12, 12, 512)       0         \n",
      "_________________________________________________________________\n",
      "block5_conv1 (Conv2D)        (None, 12, 12, 512)       2359808   \n",
      "_________________________________________________________________\n",
      "block5_conv2 (Conv2D)        (None, 12, 12, 512)       2359808   \n",
      "_________________________________________________________________\n",
      "block5_conv3 (Conv2D)        (None, 12, 12, 512)       2359808   \n",
      "_________________________________________________________________\n",
      "block5_pool (MaxPooling2D)   (None, 6, 6, 512)         0         \n",
      "=================================================================\n",
      "Total params: 14,714,688\n",
      "Trainable params: 14,714,688\n",
      "Non-trainable params: 0\n",
      "_________________________________________________________________\n"
     ]
    }
   ],
   "source": [
    "vgg16.summary()"
   ]
  },
  {
   "cell_type": "code",
   "execution_count": 12,
   "metadata": {},
   "outputs": [],
   "source": [
    "#Model2 Creation\n",
    "\n",
    "inputs = Input(name='Model2_Input', shape=(200,200,1)  )#Black and white picture\n",
    "\n",
    "x = Conv2D(filters=3,kernel_size=3, activation='relu',padding='same')(inputs)\n",
    "\n",
    "#add vgg16 layers\n",
    "for lyr in vgg16.layers[:-10]:\n",
    "    x = lyr(x)\n",
    "    x.trainable=False\n",
    "\n",
    "\n",
    "x = Conv2DTranspose(kernel_size=3,activation='relu',strides = 2 , padding='same',filters=128)(x)\n",
    "\n",
    "\n",
    "x = Conv2DTranspose(kernel_size=3,activation='relu',strides = 2 , padding='same',filters=3)(x)\n",
    "\n",
    "model2 = Model(inputs, x, name='model2')\n"
   ]
  },
  {
   "cell_type": "code",
   "execution_count": 13,
   "metadata": {},
   "outputs": [
    {
     "name": "stdout",
     "output_type": "stream",
     "text": [
      "_________________________________________________________________\n",
      "Layer (type)                 Output Shape              Param #   \n",
      "=================================================================\n",
      "Model2_Input (InputLayer)    (None, 200, 200, 1)       0         \n",
      "_________________________________________________________________\n",
      "conv2d_3 (Conv2D)            (None, 200, 200, 3)       30        \n",
      "_________________________________________________________________\n",
      "input_1 (InputLayer)         (None, 200, 200, 3)       0         \n",
      "_________________________________________________________________\n",
      "block1_conv1 (Conv2D)        (None, 200, 200, 64)      1792      \n",
      "_________________________________________________________________\n",
      "block1_conv2 (Conv2D)        (None, 200, 200, 64)      36928     \n",
      "_________________________________________________________________\n",
      "block1_pool (MaxPooling2D)   (None, 100, 100, 64)      0         \n",
      "_________________________________________________________________\n",
      "block2_conv1 (Conv2D)        (None, 100, 100, 128)     73856     \n",
      "_________________________________________________________________\n",
      "block2_conv2 (Conv2D)        (None, 100, 100, 128)     147584    \n",
      "_________________________________________________________________\n",
      "block2_pool (MaxPooling2D)   (None, 50, 50, 128)       0         \n",
      "_________________________________________________________________\n",
      "block3_conv1 (Conv2D)        (None, 50, 50, 256)       295168    \n",
      "_________________________________________________________________\n",
      "block3_conv2 (Conv2D)        (None, 50, 50, 256)       590080    \n",
      "_________________________________________________________________\n",
      "conv2d_transpose_7 (Conv2DTr (None, 100, 100, 128)     295040    \n",
      "_________________________________________________________________\n",
      "conv2d_transpose_8 (Conv2DTr (None, 200, 200, 3)       3459      \n",
      "=================================================================\n",
      "Total params: 1,443,937\n",
      "Trainable params: 1,443,937\n",
      "Non-trainable params: 0\n",
      "_________________________________________________________________\n"
     ]
    }
   ],
   "source": [
    "model2.summary()"
   ]
  },
  {
   "cell_type": "code",
   "execution_count": 14,
   "metadata": {},
   "outputs": [],
   "source": [
    "plot_model(model2,'model2.png')\n",
    "model2.compile(loss='mse', optimizer='adam',metrics=['accuracy'])"
   ]
  },
  {
   "cell_type": "markdown",
   "metadata": {},
   "source": [
    "### Loading data"
   ]
  },
  {
   "cell_type": "code",
   "execution_count": null,
   "metadata": {},
   "outputs": [],
   "source": [
    "#Loading train Data\n",
    "Xtr = []\n",
    "Ytr = []\n",
    "file = open(\"D:/Project/DeepLearning/AlgoPhotoColor/Data/train.txt\")\n",
    "fileTr = file.readlines()\n",
    "file.close()\n",
    "\n",
    "\n",
    "for f in fileTr:\n",
    "    Ytr.append( np.load(pathColor + f[:-1]))\n",
    "    Xtr.append( np.load(pathNb + f[:-1]))\n",
    "\n",
    "#Loading test data\n",
    "Xtes = []\n",
    "Ytes = []\n",
    "file = open(\"D:/Project/DeepLearning/AlgoPhotoColor/Data/test.txt\")\n",
    "fileTes = file.readlines()\n",
    "file.close()\n",
    "\n",
    "for f in fileTes:\n",
    "    Ytes.append( np.load(pathColor + f[:-1]))\n",
    "    Xtes.append( np.load(pathNb + f[:-1]))"
   ]
  },
  {
   "cell_type": "code",
   "execution_count": null,
   "metadata": {},
   "outputs": [],
   "source": [
    "w , h= (200,200)\n",
    "# reshape\n",
    "Xtr = np.asarray(Xtr).flatten()\n",
    "Xtr = Xtr.reshape(-1,w,h,1)\n",
    "Ytr = np.asarray(Ytr).flatten()\n",
    "Ytr = Ytr.reshape((-1,w,h,3))\n",
    "\n",
    "Xtes = np.asarray(Xtes).flatten()\n",
    "Xtes = Xtes.reshape(-1,w,h,1)\n",
    "Ytes = np.asarray(Ytes).flatten()\n",
    "Ytes = Ytes.reshape((-1,w,h,3))"
   ]
  },
  {
   "cell_type": "markdown",
   "metadata": {},
   "source": [
    "## Training the model"
   ]
  },
  {
   "cell_type": "code",
   "execution_count": null,
   "metadata": {},
   "outputs": [],
   "source": [
    "epochStart = 0\n",
    "epochEnd = 30\n",
    "step = 10"
   ]
  },
  {
   "cell_type": "code",
   "execution_count": null,
   "metadata": {},
   "outputs": [],
   "source": [
    "tbd = TensorBoard(\"D:/Project/DeepLearning/AlgoPhotoColor/outputs/Log/Model2\")"
   ]
  },
  {
   "cell_type": "code",
   "execution_count": null,
   "metadata": {
    "scrolled": true
   },
   "outputs": [],
   "source": [
    "#Loop through epoch and very step epochs save the model, and genrate some picture\n",
    "\n",
    "for ep in range(epochStart,epochEnd,step):\n",
    "    \n",
    "    #===============Train the model=======================================\n",
    "    model2.fit(Xtr,Ytr,batch_size=15,callbacks=[tbd],validation_data=(Xtes,Ytes) ,initial_epoch=ep ,epochs= ep+step)\n",
    "    \n",
    "    #==================Save the model=========================================\n",
    "    os.mkdir('D:/Project/DeepLearning/AlgoPhotoColor/models/Model2/Epoch{}'.format(ep + step))#create the folder\n",
    "    model2.save( \"D:/Project/DeepLearning/AlgoPhotoColor/models/Model2/Epoch{}/model2{}.h5\".format(ep + step,ep + step))\n",
    "    \n",
    "    #==================Create output data=====================================\n",
    "    os.mkdir('D:/Project/DeepLearning/AlgoPhotoColor/outputs/Model2/Epoch{}'.format(ep + step))\n",
    "    os.mkdir('D:/Project/DeepLearning/AlgoPhotoColor/outputs/Model2/Epoch{}/test'.format(ep + step))\n",
    "    os.mkdir('D:/Project/DeepLearning/AlgoPhotoColor/outputs/Model2/Epoch{}/train'.format(ep + step))\n",
    "    \n",
    "    \n",
    "    #export the genrated pictures (test)\n",
    "    res = model2.predict(Xtes[0:20])\n",
    "    res *= 255\n",
    "    res = res.astype('uint8')\n",
    "\n",
    "    index = 1\n",
    "    for img in res:\n",
    "        z = Image.fromarray( img )\n",
    "        z.save('D:/Project/DeepLearning/AlgoPhotoColor/outputs/Model2/Epoch{}/test/Photo{}.png'.format(ep + step,index))\n",
    "        index += 1\n",
    "    \n",
    "    #export the genrated pictures (train)\n",
    "    res = model2.predict(Xtr[0:20])\n",
    "    res *= 255\n",
    "    res = res.astype('uint8')\n",
    "    index = 1\n",
    "    for img in res:\n",
    "        z = Image.fromarray( img )\n",
    "        z.save('D:/Project/DeepLearning/AlgoPhotoColor/outputs/Model2/Epoch{}/train/Photo{}.png'.format(ep + step,index))\n",
    "        index += 1\n",
    "    "
   ]
  },
  {
   "cell_type": "code",
   "execution_count": null,
   "metadata": {},
   "outputs": [],
   "source": []
  }
 ],
 "metadata": {
  "kernelspec": {
   "display_name": "Python 3",
   "language": "python",
   "name": "python3"
  },
  "language_info": {
   "codemirror_mode": {
    "name": "ipython",
    "version": 3
   },
   "file_extension": ".py",
   "mimetype": "text/x-python",
   "name": "python",
   "nbconvert_exporter": "python",
   "pygments_lexer": "ipython3",
   "version": "3.6.8"
  }
 },
 "nbformat": 4,
 "nbformat_minor": 2
}
