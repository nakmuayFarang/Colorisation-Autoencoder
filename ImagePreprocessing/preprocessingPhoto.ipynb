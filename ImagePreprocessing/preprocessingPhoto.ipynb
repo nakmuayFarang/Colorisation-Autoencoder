{
 "cells": [
  {
   "cell_type": "markdown",
   "metadata": {},
   "source": [
    "# Preprocessing and sampling"
   ]
  },
  {
   "cell_type": "markdown",
   "metadata": {},
   "source": [
    "The aim of this code is to create the train and test data sample:\n",
    "* Create a black and white copy of the picture\n",
    "* Save it as numpy array\n",
    "* Create a test and train sample"
   ]
  },
  {
   "cell_type": "code",
   "execution_count": null,
   "metadata": {},
   "outputs": [],
   "source": [
    "#Dependancies\n",
    "import os\n",
    "from glob import glob\n",
    "import numpy as np, pandas as pd\n",
    "import matplotlib.pyplot as plt\n",
    "import PIL.Image as Image\n",
    "from math import floor\n",
    "from random import shuffle, uniform"
   ]
  },
  {
   "cell_type": "code",
   "execution_count": null,
   "metadata": {},
   "outputs": [],
   "source": [
    "#Select the picture with the good pattern\n",
    "\n",
    "pathRoot = \"D:/Project/DeepLearning/AlgoPhotoColor/Data/\"\n",
    "\n",
    "path = pathRoot + \"original/*.jpg\"\n",
    "\n",
    "nbPath = pathRoot + \"nb/\"\n",
    "colPath = pathRoot + \"color/\"\n",
    "\n",
    "pics = glob(path)"
   ]
  },
  {
   "cell_type": "markdown",
   "metadata": {},
   "source": [
    "Loop through the pictures in the  data path:\n",
    "* Resize the picture in order to maintain widht height ratio. The new picture's size (nSize, height) or (width,nSize) depending on $\\min(higth , width)$\n",
    "* Crop the center of the picture"
   ]
  },
  {
   "cell_type": "markdown",
   "metadata": {},
   "source": [
    "## Create array from the pictures"
   ]
  },
  {
   "cell_type": "code",
   "execution_count": null,
   "metadata": {},
   "outputs": [],
   "source": [
    "nSize = 200\n",
    "index = 0\n",
    "name = list()\n",
    "\n",
    "for p in pics:\n",
    "\n",
    "    picName = pics[index].split('\\\\')[1].split('.')[0]\n",
    "    name.append(picName)    \n",
    "    img = Image.open(pics[index])\n",
    "    \n",
    "    h = img.height\n",
    "    w = img.width\n",
    "\n",
    "    #resize the picture with original ratio\n",
    "    if h <= w:\n",
    "        img = img.resize(( floor( nSize * w / h ), nSize  ), Image.ANTIALIAS)\n",
    "    else:\n",
    "        img = img.resize((nSize,  floor(nSize *  h / w) ), Image.ANTIALIAS)\n",
    "    \n",
    "    #Crop the picture; keep the center of the picture         \n",
    "\n",
    "    left = (img.width - nSize)/2\n",
    "    top = (img.height - nSize)/2\n",
    "    right = (img.width + nSize)/2\n",
    "    bottom = (img.height + nSize)/2\n",
    "\n",
    "    img = img.crop((left, top, right, bottom))\n",
    "\n",
    "    imgNb = img.convert('L')#Convert into B&W    \n",
    "\n",
    "    col = np.array(img).astype('float32')\n",
    "    nb = np.array(imgNb).astype('float32')\n",
    "    \n",
    "    col /= 255\n",
    "    nb /= 255\n",
    "\n",
    "\n",
    "    np.save(colPath + picName ,col)\n",
    "    np.save(nbPath + picName , nb )\n",
    "  \n",
    "    img.close()\n",
    "    index += 1"
   ]
  },
  {
   "cell_type": "markdown",
   "metadata": {},
   "source": [
    "## Create test and train sample"
   ]
  },
  {
   "cell_type": "markdown",
   "metadata": {},
   "source": [
    "Create 2 text files on the disc listing the content of the train and test file"
   ]
  },
  {
   "cell_type": "code",
   "execution_count": null,
   "metadata": {},
   "outputs": [],
   "source": [
    "\n",
    "testTrainSplit = 0.8\n",
    "pics = os.listdir(nbPath)\n",
    "shuffle(pics)#Shuffle the pictures\n",
    "\n",
    "train = pics[0: floor(testTrainSplit * len(pics))  ]\n",
    "test = pics[floor(testTrainSplit * len(pics)):  ]  \n",
    "file = open(pathRoot + 'test.txt','a')\n",
    "for j in test:\n",
    "    file.write( j + '\\n')\n",
    "file.close()\n",
    "file = open(pathRoot + 'train.txt','a')\n",
    "for j in train:\n",
    "    file.write( j + '\\n')\n",
    "file.close()"
   ]
  }
 ],
 "metadata": {
  "kernelspec": {
   "display_name": "Python 3",
   "language": "python",
   "name": "python3"
  },
  "language_info": {
   "codemirror_mode": {
    "name": "ipython",
    "version": 3
   },
   "file_extension": ".py",
   "mimetype": "text/x-python",
   "name": "python",
   "nbconvert_exporter": "python",
   "pygments_lexer": "ipython3",
   "version": "3.6.8"
  }
 },
 "nbformat": 4,
 "nbformat_minor": 2
}
